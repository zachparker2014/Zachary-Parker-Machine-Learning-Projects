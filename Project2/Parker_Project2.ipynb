{
  "nbformat": 4,
  "nbformat_minor": 0,
  "metadata": {
    "colab": {
      "name": "ParkerHW2_IntrotoML.ipynb",
      "provenance": [],
      "authorship_tag": "ABX9TyM7onhXnLTRv+1S/hL5BYyK"
    },
    "kernelspec": {
      "name": "python3",
      "display_name": "Python 3"
    },
    "language_info": {
      "name": "python"
    }
  },
  "cells": [
    {
      "cell_type": "code",
      "execution_count": 80,
      "metadata": {
        "id": "RRPtuphTzQxO"
      },
      "outputs": [],
      "source": [
        "from sklearn.datasets import load_diabetes\n",
        "from sklearn.model_selection import train_test_split\n",
        "from sklearn.linear_model import LinearRegression\n",
        "from sklearn import metrics\n",
        "from sklearn.linear_model import ElasticNet, Lasso, Ridge\n",
        "from sklearn.model_selection import KFold, cross_val_score"
      ]
    },
    {
      "cell_type": "code",
      "source": [
        "diabetes = load_diabetes()"
      ],
      "metadata": {
        "id": "4_qag3fw0tpZ"
      },
      "execution_count": 3,
      "outputs": []
    },
    {
      "cell_type": "code",
      "source": [
        "print(diabetes['DESCR'])"
      ],
      "metadata": {
        "colab": {
          "base_uri": "https://localhost:8080/"
        },
        "id": "gFMxwCWc030w",
        "outputId": "f22c18c9-496b-4a00-cea6-3a47aa09ef53"
      },
      "execution_count": 41,
      "outputs": [
        {
          "output_type": "stream",
          "name": "stdout",
          "text": [
            ".. _diabetes_dataset:\n",
            "\n",
            "Diabetes dataset\n",
            "----------------\n",
            "\n",
            "Ten baseline variables, age, sex, body mass index, average blood\n",
            "pressure, and six blood serum measurements were obtained for each of n =\n",
            "442 diabetes patients, as well as the response of interest, a\n",
            "quantitative measure of disease progression one year after baseline.\n",
            "\n",
            "**Data Set Characteristics:**\n",
            "\n",
            "  :Number of Instances: 442\n",
            "\n",
            "  :Number of Attributes: First 10 columns are numeric predictive values\n",
            "\n",
            "  :Target: Column 11 is a quantitative measure of disease progression one year after baseline\n",
            "\n",
            "  :Attribute Information:\n",
            "      - age     age in years\n",
            "      - sex\n",
            "      - bmi     body mass index\n",
            "      - bp      average blood pressure\n",
            "      - s1      tc, total serum cholesterol\n",
            "      - s2      ldl, low-density lipoproteins\n",
            "      - s3      hdl, high-density lipoproteins\n",
            "      - s4      tch, total cholesterol / HDL\n",
            "      - s5      ltg, possibly log of serum triglycerides level\n",
            "      - s6      glu, blood sugar level\n",
            "\n",
            "Note: Each of these 10 feature variables have been mean centered and scaled by the standard deviation times `n_samples` (i.e. the sum of squares of each column totals 1).\n",
            "\n",
            "Source URL:\n",
            "https://www4.stat.ncsu.edu/~boos/var.select/diabetes.html\n",
            "\n",
            "For more information see:\n",
            "Bradley Efron, Trevor Hastie, Iain Johnstone and Robert Tibshirani (2004) \"Least Angle Regression,\" Annals of Statistics (with discussion), 407-499.\n",
            "(https://web.stanford.edu/~hastie/Papers/LARS/LeastAngle_2002.pdf)\n"
          ]
        }
      ]
    },
    {
      "cell_type": "code",
      "source": [
        "diabetes.data.shape"
      ],
      "metadata": {
        "colab": {
          "base_uri": "https://localhost:8080/"
        },
        "id": "1Kb-ywo61Jq1",
        "outputId": "7712c471-2f74-4a93-a0a0-3eda7e8ed872"
      },
      "execution_count": 7,
      "outputs": [
        {
          "output_type": "execute_result",
          "data": {
            "text/plain": [
              "(442, 10)"
            ]
          },
          "metadata": {},
          "execution_count": 7
        }
      ]
    },
    {
      "cell_type": "code",
      "source": [
        "diabetes.target.shape"
      ],
      "metadata": {
        "colab": {
          "base_uri": "https://localhost:8080/"
        },
        "id": "ixxnuw-r2JxB",
        "outputId": "23e7917c-1b03-4d14-dd05-bfc7d5ff04ca"
      },
      "execution_count": 8,
      "outputs": [
        {
          "output_type": "execute_result",
          "data": {
            "text/plain": [
              "(442,)"
            ]
          },
          "metadata": {},
          "execution_count": 8
        }
      ]
    },
    {
      "cell_type": "code",
      "source": [
        "diabetes.feature_names"
      ],
      "metadata": {
        "colab": {
          "base_uri": "https://localhost:8080/"
        },
        "id": "8ZdtaIi82OFl",
        "outputId": "3f2d1004-286d-4dfe-944d-a8a654ca22e6"
      },
      "execution_count": 9,
      "outputs": [
        {
          "output_type": "execute_result",
          "data": {
            "text/plain": [
              "['age', 'sex', 'bmi', 'bp', 's1', 's2', 's3', 's4', 's5', 's6']"
            ]
          },
          "metadata": {},
          "execution_count": 9
        }
      ]
    },
    {
      "cell_type": "code",
      "source": [
        "import pandas as pd"
      ],
      "metadata": {
        "id": "-dF8gBNd2bVS"
      },
      "execution_count": 10,
      "outputs": []
    },
    {
      "cell_type": "code",
      "source": [
        "pd.set_option('precision', 4)\n",
        "\n",
        "pd.set_option('max_columns', 11)\n",
        "\n",
        "pd.set_option('display.width', None)"
      ],
      "metadata": {
        "id": "-wbL70PV3gFX"
      },
      "execution_count": 18,
      "outputs": []
    },
    {
      "cell_type": "code",
      "source": [
        "diabetes_df = pd.DataFrame(diabetes.data, columns=diabetes.feature_names)\n",
        "diabetes_df['DiseaseProg'] = pd.Series(diabetes.target)"
      ],
      "metadata": {
        "id": "5YUgpCmY3glN"
      },
      "execution_count": 20,
      "outputs": []
    },
    {
      "cell_type": "code",
      "source": [
        "diabetes_df"
      ],
      "metadata": {
        "colab": {
          "base_uri": "https://localhost:8080/",
          "height": 424
        },
        "id": "ZSaYXU4n30Ly",
        "outputId": "d127764e-376b-41c4-f463-dc2651756887"
      },
      "execution_count": 21,
      "outputs": [
        {
          "output_type": "execute_result",
          "data": {
            "text/plain": [
              "        age     sex     bmi      bp      s1      s2      s3      s4      s5  \\\n",
              "0    0.0381  0.0507  0.0617  0.0219 -0.0442 -0.0348 -0.0434 -0.0026  0.0199   \n",
              "1   -0.0019 -0.0446 -0.0515 -0.0263 -0.0084 -0.0192  0.0744 -0.0395 -0.0683   \n",
              "2    0.0853  0.0507  0.0445 -0.0057 -0.0456 -0.0342 -0.0324 -0.0026  0.0029   \n",
              "3   -0.0891 -0.0446 -0.0116 -0.0367  0.0122  0.0250 -0.0360  0.0343  0.0227   \n",
              "4    0.0054 -0.0446 -0.0364  0.0219  0.0039  0.0156  0.0081 -0.0026 -0.0320   \n",
              "..      ...     ...     ...     ...     ...     ...     ...     ...     ...   \n",
              "437  0.0417  0.0507  0.0197  0.0597 -0.0057 -0.0026 -0.0287 -0.0026  0.0312   \n",
              "438 -0.0055  0.0507 -0.0159 -0.0676  0.0493  0.0792 -0.0287  0.0343 -0.0181   \n",
              "439  0.0417  0.0507 -0.0159  0.0173 -0.0373 -0.0138 -0.0250 -0.0111 -0.0469   \n",
              "440 -0.0455 -0.0446  0.0391  0.0012  0.0163  0.0153 -0.0287  0.0266  0.0445   \n",
              "441 -0.0455 -0.0446 -0.0730 -0.0814  0.0837  0.0278  0.1738 -0.0395 -0.0042   \n",
              "\n",
              "         s6  DiseaseProg  \n",
              "0   -0.0176        151.0  \n",
              "1   -0.0922         75.0  \n",
              "2   -0.0259        141.0  \n",
              "3   -0.0094        206.0  \n",
              "4   -0.0466        135.0  \n",
              "..      ...          ...  \n",
              "437  0.0072        178.0  \n",
              "438  0.0445        104.0  \n",
              "439  0.0155        132.0  \n",
              "440 -0.0259        220.0  \n",
              "441  0.0031         57.0  \n",
              "\n",
              "[442 rows x 11 columns]"
            ],
            "text/html": [
              "\n",
              "  <div id=\"df-08279b47-f881-4a33-b7b8-787506f5dba3\">\n",
              "    <div class=\"colab-df-container\">\n",
              "      <div>\n",
              "<style scoped>\n",
              "    .dataframe tbody tr th:only-of-type {\n",
              "        vertical-align: middle;\n",
              "    }\n",
              "\n",
              "    .dataframe tbody tr th {\n",
              "        vertical-align: top;\n",
              "    }\n",
              "\n",
              "    .dataframe thead th {\n",
              "        text-align: right;\n",
              "    }\n",
              "</style>\n",
              "<table border=\"1\" class=\"dataframe\">\n",
              "  <thead>\n",
              "    <tr style=\"text-align: right;\">\n",
              "      <th></th>\n",
              "      <th>age</th>\n",
              "      <th>sex</th>\n",
              "      <th>bmi</th>\n",
              "      <th>bp</th>\n",
              "      <th>s1</th>\n",
              "      <th>s2</th>\n",
              "      <th>s3</th>\n",
              "      <th>s4</th>\n",
              "      <th>s5</th>\n",
              "      <th>s6</th>\n",
              "      <th>DiseaseProg</th>\n",
              "    </tr>\n",
              "  </thead>\n",
              "  <tbody>\n",
              "    <tr>\n",
              "      <th>0</th>\n",
              "      <td>0.0381</td>\n",
              "      <td>0.0507</td>\n",
              "      <td>0.0617</td>\n",
              "      <td>0.0219</td>\n",
              "      <td>-0.0442</td>\n",
              "      <td>-0.0348</td>\n",
              "      <td>-0.0434</td>\n",
              "      <td>-0.0026</td>\n",
              "      <td>0.0199</td>\n",
              "      <td>-0.0176</td>\n",
              "      <td>151.0</td>\n",
              "    </tr>\n",
              "    <tr>\n",
              "      <th>1</th>\n",
              "      <td>-0.0019</td>\n",
              "      <td>-0.0446</td>\n",
              "      <td>-0.0515</td>\n",
              "      <td>-0.0263</td>\n",
              "      <td>-0.0084</td>\n",
              "      <td>-0.0192</td>\n",
              "      <td>0.0744</td>\n",
              "      <td>-0.0395</td>\n",
              "      <td>-0.0683</td>\n",
              "      <td>-0.0922</td>\n",
              "      <td>75.0</td>\n",
              "    </tr>\n",
              "    <tr>\n",
              "      <th>2</th>\n",
              "      <td>0.0853</td>\n",
              "      <td>0.0507</td>\n",
              "      <td>0.0445</td>\n",
              "      <td>-0.0057</td>\n",
              "      <td>-0.0456</td>\n",
              "      <td>-0.0342</td>\n",
              "      <td>-0.0324</td>\n",
              "      <td>-0.0026</td>\n",
              "      <td>0.0029</td>\n",
              "      <td>-0.0259</td>\n",
              "      <td>141.0</td>\n",
              "    </tr>\n",
              "    <tr>\n",
              "      <th>3</th>\n",
              "      <td>-0.0891</td>\n",
              "      <td>-0.0446</td>\n",
              "      <td>-0.0116</td>\n",
              "      <td>-0.0367</td>\n",
              "      <td>0.0122</td>\n",
              "      <td>0.0250</td>\n",
              "      <td>-0.0360</td>\n",
              "      <td>0.0343</td>\n",
              "      <td>0.0227</td>\n",
              "      <td>-0.0094</td>\n",
              "      <td>206.0</td>\n",
              "    </tr>\n",
              "    <tr>\n",
              "      <th>4</th>\n",
              "      <td>0.0054</td>\n",
              "      <td>-0.0446</td>\n",
              "      <td>-0.0364</td>\n",
              "      <td>0.0219</td>\n",
              "      <td>0.0039</td>\n",
              "      <td>0.0156</td>\n",
              "      <td>0.0081</td>\n",
              "      <td>-0.0026</td>\n",
              "      <td>-0.0320</td>\n",
              "      <td>-0.0466</td>\n",
              "      <td>135.0</td>\n",
              "    </tr>\n",
              "    <tr>\n",
              "      <th>...</th>\n",
              "      <td>...</td>\n",
              "      <td>...</td>\n",
              "      <td>...</td>\n",
              "      <td>...</td>\n",
              "      <td>...</td>\n",
              "      <td>...</td>\n",
              "      <td>...</td>\n",
              "      <td>...</td>\n",
              "      <td>...</td>\n",
              "      <td>...</td>\n",
              "      <td>...</td>\n",
              "    </tr>\n",
              "    <tr>\n",
              "      <th>437</th>\n",
              "      <td>0.0417</td>\n",
              "      <td>0.0507</td>\n",
              "      <td>0.0197</td>\n",
              "      <td>0.0597</td>\n",
              "      <td>-0.0057</td>\n",
              "      <td>-0.0026</td>\n",
              "      <td>-0.0287</td>\n",
              "      <td>-0.0026</td>\n",
              "      <td>0.0312</td>\n",
              "      <td>0.0072</td>\n",
              "      <td>178.0</td>\n",
              "    </tr>\n",
              "    <tr>\n",
              "      <th>438</th>\n",
              "      <td>-0.0055</td>\n",
              "      <td>0.0507</td>\n",
              "      <td>-0.0159</td>\n",
              "      <td>-0.0676</td>\n",
              "      <td>0.0493</td>\n",
              "      <td>0.0792</td>\n",
              "      <td>-0.0287</td>\n",
              "      <td>0.0343</td>\n",
              "      <td>-0.0181</td>\n",
              "      <td>0.0445</td>\n",
              "      <td>104.0</td>\n",
              "    </tr>\n",
              "    <tr>\n",
              "      <th>439</th>\n",
              "      <td>0.0417</td>\n",
              "      <td>0.0507</td>\n",
              "      <td>-0.0159</td>\n",
              "      <td>0.0173</td>\n",
              "      <td>-0.0373</td>\n",
              "      <td>-0.0138</td>\n",
              "      <td>-0.0250</td>\n",
              "      <td>-0.0111</td>\n",
              "      <td>-0.0469</td>\n",
              "      <td>0.0155</td>\n",
              "      <td>132.0</td>\n",
              "    </tr>\n",
              "    <tr>\n",
              "      <th>440</th>\n",
              "      <td>-0.0455</td>\n",
              "      <td>-0.0446</td>\n",
              "      <td>0.0391</td>\n",
              "      <td>0.0012</td>\n",
              "      <td>0.0163</td>\n",
              "      <td>0.0153</td>\n",
              "      <td>-0.0287</td>\n",
              "      <td>0.0266</td>\n",
              "      <td>0.0445</td>\n",
              "      <td>-0.0259</td>\n",
              "      <td>220.0</td>\n",
              "    </tr>\n",
              "    <tr>\n",
              "      <th>441</th>\n",
              "      <td>-0.0455</td>\n",
              "      <td>-0.0446</td>\n",
              "      <td>-0.0730</td>\n",
              "      <td>-0.0814</td>\n",
              "      <td>0.0837</td>\n",
              "      <td>0.0278</td>\n",
              "      <td>0.1738</td>\n",
              "      <td>-0.0395</td>\n",
              "      <td>-0.0042</td>\n",
              "      <td>0.0031</td>\n",
              "      <td>57.0</td>\n",
              "    </tr>\n",
              "  </tbody>\n",
              "</table>\n",
              "<p>442 rows × 11 columns</p>\n",
              "</div>\n",
              "      <button class=\"colab-df-convert\" onclick=\"convertToInteractive('df-08279b47-f881-4a33-b7b8-787506f5dba3')\"\n",
              "              title=\"Convert this dataframe to an interactive table.\"\n",
              "              style=\"display:none;\">\n",
              "        \n",
              "  <svg xmlns=\"http://www.w3.org/2000/svg\" height=\"24px\"viewBox=\"0 0 24 24\"\n",
              "       width=\"24px\">\n",
              "    <path d=\"M0 0h24v24H0V0z\" fill=\"none\"/>\n",
              "    <path d=\"M18.56 5.44l.94 2.06.94-2.06 2.06-.94-2.06-.94-.94-2.06-.94 2.06-2.06.94zm-11 1L8.5 8.5l.94-2.06 2.06-.94-2.06-.94L8.5 2.5l-.94 2.06-2.06.94zm10 10l.94 2.06.94-2.06 2.06-.94-2.06-.94-.94-2.06-.94 2.06-2.06.94z\"/><path d=\"M17.41 7.96l-1.37-1.37c-.4-.4-.92-.59-1.43-.59-.52 0-1.04.2-1.43.59L10.3 9.45l-7.72 7.72c-.78.78-.78 2.05 0 2.83L4 21.41c.39.39.9.59 1.41.59.51 0 1.02-.2 1.41-.59l7.78-7.78 2.81-2.81c.8-.78.8-2.07 0-2.86zM5.41 20L4 18.59l7.72-7.72 1.47 1.35L5.41 20z\"/>\n",
              "  </svg>\n",
              "      </button>\n",
              "      \n",
              "  <style>\n",
              "    .colab-df-container {\n",
              "      display:flex;\n",
              "      flex-wrap:wrap;\n",
              "      gap: 12px;\n",
              "    }\n",
              "\n",
              "    .colab-df-convert {\n",
              "      background-color: #E8F0FE;\n",
              "      border: none;\n",
              "      border-radius: 50%;\n",
              "      cursor: pointer;\n",
              "      display: none;\n",
              "      fill: #1967D2;\n",
              "      height: 32px;\n",
              "      padding: 0 0 0 0;\n",
              "      width: 32px;\n",
              "    }\n",
              "\n",
              "    .colab-df-convert:hover {\n",
              "      background-color: #E2EBFA;\n",
              "      box-shadow: 0px 1px 2px rgba(60, 64, 67, 0.3), 0px 1px 3px 1px rgba(60, 64, 67, 0.15);\n",
              "      fill: #174EA6;\n",
              "    }\n",
              "\n",
              "    [theme=dark] .colab-df-convert {\n",
              "      background-color: #3B4455;\n",
              "      fill: #D2E3FC;\n",
              "    }\n",
              "\n",
              "    [theme=dark] .colab-df-convert:hover {\n",
              "      background-color: #434B5C;\n",
              "      box-shadow: 0px 1px 3px 1px rgba(0, 0, 0, 0.15);\n",
              "      filter: drop-shadow(0px 1px 2px rgba(0, 0, 0, 0.3));\n",
              "      fill: #FFFFFF;\n",
              "    }\n",
              "  </style>\n",
              "\n",
              "      <script>\n",
              "        const buttonEl =\n",
              "          document.querySelector('#df-08279b47-f881-4a33-b7b8-787506f5dba3 button.colab-df-convert');\n",
              "        buttonEl.style.display =\n",
              "          google.colab.kernel.accessAllowed ? 'block' : 'none';\n",
              "\n",
              "        async function convertToInteractive(key) {\n",
              "          const element = document.querySelector('#df-08279b47-f881-4a33-b7b8-787506f5dba3');\n",
              "          const dataTable =\n",
              "            await google.colab.kernel.invokeFunction('convertToInteractive',\n",
              "                                                     [key], {});\n",
              "          if (!dataTable) return;\n",
              "\n",
              "          const docLinkHtml = 'Like what you see? Visit the ' +\n",
              "            '<a target=\"_blank\" href=https://colab.research.google.com/notebooks/data_table.ipynb>data table notebook</a>'\n",
              "            + ' to learn more about interactive tables.';\n",
              "          element.innerHTML = '';\n",
              "          dataTable['output_type'] = 'display_data';\n",
              "          await google.colab.output.renderOutput(dataTable, element);\n",
              "          const docLink = document.createElement('div');\n",
              "          docLink.innerHTML = docLinkHtml;\n",
              "          element.appendChild(docLink);\n",
              "        }\n",
              "      </script>\n",
              "    </div>\n",
              "  </div>\n",
              "  "
            ]
          },
          "metadata": {},
          "execution_count": 21
        }
      ]
    },
    {
      "cell_type": "code",
      "source": [
        "diabetes_df.describe()"
      ],
      "metadata": {
        "colab": {
          "base_uri": "https://localhost:8080/",
          "height": 300
        },
        "id": "Yci-QWHF31u1",
        "outputId": "f4f17105-37a7-4455-f8dd-a9d6e7d8e08f"
      },
      "execution_count": 22,
      "outputs": [
        {
          "output_type": "execute_result",
          "data": {
            "text/plain": [
              "              age         sex         bmi          bp          s1          s2  \\\n",
              "count  4.4200e+02  4.4200e+02  4.4200e+02  4.4200e+02  4.4200e+02  4.4200e+02   \n",
              "mean  -3.6396e-16  1.3099e-16 -8.0140e-16  1.2898e-16 -9.0425e-17  1.3011e-16   \n",
              "std    4.7619e-02  4.7619e-02  4.7619e-02  4.7619e-02  4.7619e-02  4.7619e-02   \n",
              "min   -1.0723e-01 -4.4642e-02 -9.0275e-02 -1.1240e-01 -1.2678e-01 -1.1561e-01   \n",
              "25%   -3.7299e-02 -4.4642e-02 -3.4229e-02 -3.6656e-02 -3.4248e-02 -3.0358e-02   \n",
              "50%    5.3831e-03 -4.4642e-02 -7.2838e-03 -5.6706e-03 -4.3209e-03 -3.8191e-03   \n",
              "75%    3.8076e-02  5.0680e-02  3.1248e-02  3.5644e-02  2.8358e-02  2.9844e-02   \n",
              "max    1.1073e-01  5.0680e-02  1.7056e-01  1.3204e-01  1.5391e-01  1.9879e-01   \n",
              "\n",
              "               s3          s4          s5          s6  DiseaseProg  \n",
              "count  4.4200e+02  4.4200e+02  4.4200e+02  4.4200e+02     442.0000  \n",
              "mean  -4.5640e-16  3.8632e-16 -3.8481e-16 -3.3985e-16     152.1335  \n",
              "std    4.7619e-02  4.7619e-02  4.7619e-02  4.7619e-02      77.0930  \n",
              "min   -1.0231e-01 -7.6395e-02 -1.2610e-01 -1.3777e-01      25.0000  \n",
              "25%   -3.5117e-02 -3.9493e-02 -3.3249e-02 -3.3179e-02      87.0000  \n",
              "50%   -6.5845e-03 -2.5923e-03 -1.9476e-03 -1.0777e-03     140.5000  \n",
              "75%    2.9312e-02  3.4309e-02  3.2433e-02  2.7917e-02     211.5000  \n",
              "max    1.8118e-01  1.8523e-01  1.3360e-01  1.3561e-01     346.0000  "
            ],
            "text/html": [
              "\n",
              "  <div id=\"df-ac72e87f-d64e-47b5-be6c-03fb08821a38\">\n",
              "    <div class=\"colab-df-container\">\n",
              "      <div>\n",
              "<style scoped>\n",
              "    .dataframe tbody tr th:only-of-type {\n",
              "        vertical-align: middle;\n",
              "    }\n",
              "\n",
              "    .dataframe tbody tr th {\n",
              "        vertical-align: top;\n",
              "    }\n",
              "\n",
              "    .dataframe thead th {\n",
              "        text-align: right;\n",
              "    }\n",
              "</style>\n",
              "<table border=\"1\" class=\"dataframe\">\n",
              "  <thead>\n",
              "    <tr style=\"text-align: right;\">\n",
              "      <th></th>\n",
              "      <th>age</th>\n",
              "      <th>sex</th>\n",
              "      <th>bmi</th>\n",
              "      <th>bp</th>\n",
              "      <th>s1</th>\n",
              "      <th>s2</th>\n",
              "      <th>s3</th>\n",
              "      <th>s4</th>\n",
              "      <th>s5</th>\n",
              "      <th>s6</th>\n",
              "      <th>DiseaseProg</th>\n",
              "    </tr>\n",
              "  </thead>\n",
              "  <tbody>\n",
              "    <tr>\n",
              "      <th>count</th>\n",
              "      <td>4.4200e+02</td>\n",
              "      <td>4.4200e+02</td>\n",
              "      <td>4.4200e+02</td>\n",
              "      <td>4.4200e+02</td>\n",
              "      <td>4.4200e+02</td>\n",
              "      <td>4.4200e+02</td>\n",
              "      <td>4.4200e+02</td>\n",
              "      <td>4.4200e+02</td>\n",
              "      <td>4.4200e+02</td>\n",
              "      <td>4.4200e+02</td>\n",
              "      <td>442.0000</td>\n",
              "    </tr>\n",
              "    <tr>\n",
              "      <th>mean</th>\n",
              "      <td>-3.6396e-16</td>\n",
              "      <td>1.3099e-16</td>\n",
              "      <td>-8.0140e-16</td>\n",
              "      <td>1.2898e-16</td>\n",
              "      <td>-9.0425e-17</td>\n",
              "      <td>1.3011e-16</td>\n",
              "      <td>-4.5640e-16</td>\n",
              "      <td>3.8632e-16</td>\n",
              "      <td>-3.8481e-16</td>\n",
              "      <td>-3.3985e-16</td>\n",
              "      <td>152.1335</td>\n",
              "    </tr>\n",
              "    <tr>\n",
              "      <th>std</th>\n",
              "      <td>4.7619e-02</td>\n",
              "      <td>4.7619e-02</td>\n",
              "      <td>4.7619e-02</td>\n",
              "      <td>4.7619e-02</td>\n",
              "      <td>4.7619e-02</td>\n",
              "      <td>4.7619e-02</td>\n",
              "      <td>4.7619e-02</td>\n",
              "      <td>4.7619e-02</td>\n",
              "      <td>4.7619e-02</td>\n",
              "      <td>4.7619e-02</td>\n",
              "      <td>77.0930</td>\n",
              "    </tr>\n",
              "    <tr>\n",
              "      <th>min</th>\n",
              "      <td>-1.0723e-01</td>\n",
              "      <td>-4.4642e-02</td>\n",
              "      <td>-9.0275e-02</td>\n",
              "      <td>-1.1240e-01</td>\n",
              "      <td>-1.2678e-01</td>\n",
              "      <td>-1.1561e-01</td>\n",
              "      <td>-1.0231e-01</td>\n",
              "      <td>-7.6395e-02</td>\n",
              "      <td>-1.2610e-01</td>\n",
              "      <td>-1.3777e-01</td>\n",
              "      <td>25.0000</td>\n",
              "    </tr>\n",
              "    <tr>\n",
              "      <th>25%</th>\n",
              "      <td>-3.7299e-02</td>\n",
              "      <td>-4.4642e-02</td>\n",
              "      <td>-3.4229e-02</td>\n",
              "      <td>-3.6656e-02</td>\n",
              "      <td>-3.4248e-02</td>\n",
              "      <td>-3.0358e-02</td>\n",
              "      <td>-3.5117e-02</td>\n",
              "      <td>-3.9493e-02</td>\n",
              "      <td>-3.3249e-02</td>\n",
              "      <td>-3.3179e-02</td>\n",
              "      <td>87.0000</td>\n",
              "    </tr>\n",
              "    <tr>\n",
              "      <th>50%</th>\n",
              "      <td>5.3831e-03</td>\n",
              "      <td>-4.4642e-02</td>\n",
              "      <td>-7.2838e-03</td>\n",
              "      <td>-5.6706e-03</td>\n",
              "      <td>-4.3209e-03</td>\n",
              "      <td>-3.8191e-03</td>\n",
              "      <td>-6.5845e-03</td>\n",
              "      <td>-2.5923e-03</td>\n",
              "      <td>-1.9476e-03</td>\n",
              "      <td>-1.0777e-03</td>\n",
              "      <td>140.5000</td>\n",
              "    </tr>\n",
              "    <tr>\n",
              "      <th>75%</th>\n",
              "      <td>3.8076e-02</td>\n",
              "      <td>5.0680e-02</td>\n",
              "      <td>3.1248e-02</td>\n",
              "      <td>3.5644e-02</td>\n",
              "      <td>2.8358e-02</td>\n",
              "      <td>2.9844e-02</td>\n",
              "      <td>2.9312e-02</td>\n",
              "      <td>3.4309e-02</td>\n",
              "      <td>3.2433e-02</td>\n",
              "      <td>2.7917e-02</td>\n",
              "      <td>211.5000</td>\n",
              "    </tr>\n",
              "    <tr>\n",
              "      <th>max</th>\n",
              "      <td>1.1073e-01</td>\n",
              "      <td>5.0680e-02</td>\n",
              "      <td>1.7056e-01</td>\n",
              "      <td>1.3204e-01</td>\n",
              "      <td>1.5391e-01</td>\n",
              "      <td>1.9879e-01</td>\n",
              "      <td>1.8118e-01</td>\n",
              "      <td>1.8523e-01</td>\n",
              "      <td>1.3360e-01</td>\n",
              "      <td>1.3561e-01</td>\n",
              "      <td>346.0000</td>\n",
              "    </tr>\n",
              "  </tbody>\n",
              "</table>\n",
              "</div>\n",
              "      <button class=\"colab-df-convert\" onclick=\"convertToInteractive('df-ac72e87f-d64e-47b5-be6c-03fb08821a38')\"\n",
              "              title=\"Convert this dataframe to an interactive table.\"\n",
              "              style=\"display:none;\">\n",
              "        \n",
              "  <svg xmlns=\"http://www.w3.org/2000/svg\" height=\"24px\"viewBox=\"0 0 24 24\"\n",
              "       width=\"24px\">\n",
              "    <path d=\"M0 0h24v24H0V0z\" fill=\"none\"/>\n",
              "    <path d=\"M18.56 5.44l.94 2.06.94-2.06 2.06-.94-2.06-.94-.94-2.06-.94 2.06-2.06.94zm-11 1L8.5 8.5l.94-2.06 2.06-.94-2.06-.94L8.5 2.5l-.94 2.06-2.06.94zm10 10l.94 2.06.94-2.06 2.06-.94-2.06-.94-.94-2.06-.94 2.06-2.06.94z\"/><path d=\"M17.41 7.96l-1.37-1.37c-.4-.4-.92-.59-1.43-.59-.52 0-1.04.2-1.43.59L10.3 9.45l-7.72 7.72c-.78.78-.78 2.05 0 2.83L4 21.41c.39.39.9.59 1.41.59.51 0 1.02-.2 1.41-.59l7.78-7.78 2.81-2.81c.8-.78.8-2.07 0-2.86zM5.41 20L4 18.59l7.72-7.72 1.47 1.35L5.41 20z\"/>\n",
              "  </svg>\n",
              "      </button>\n",
              "      \n",
              "  <style>\n",
              "    .colab-df-container {\n",
              "      display:flex;\n",
              "      flex-wrap:wrap;\n",
              "      gap: 12px;\n",
              "    }\n",
              "\n",
              "    .colab-df-convert {\n",
              "      background-color: #E8F0FE;\n",
              "      border: none;\n",
              "      border-radius: 50%;\n",
              "      cursor: pointer;\n",
              "      display: none;\n",
              "      fill: #1967D2;\n",
              "      height: 32px;\n",
              "      padding: 0 0 0 0;\n",
              "      width: 32px;\n",
              "    }\n",
              "\n",
              "    .colab-df-convert:hover {\n",
              "      background-color: #E2EBFA;\n",
              "      box-shadow: 0px 1px 2px rgba(60, 64, 67, 0.3), 0px 1px 3px 1px rgba(60, 64, 67, 0.15);\n",
              "      fill: #174EA6;\n",
              "    }\n",
              "\n",
              "    [theme=dark] .colab-df-convert {\n",
              "      background-color: #3B4455;\n",
              "      fill: #D2E3FC;\n",
              "    }\n",
              "\n",
              "    [theme=dark] .colab-df-convert:hover {\n",
              "      background-color: #434B5C;\n",
              "      box-shadow: 0px 1px 3px 1px rgba(0, 0, 0, 0.15);\n",
              "      filter: drop-shadow(0px 1px 2px rgba(0, 0, 0, 0.3));\n",
              "      fill: #FFFFFF;\n",
              "    }\n",
              "  </style>\n",
              "\n",
              "      <script>\n",
              "        const buttonEl =\n",
              "          document.querySelector('#df-ac72e87f-d64e-47b5-be6c-03fb08821a38 button.colab-df-convert');\n",
              "        buttonEl.style.display =\n",
              "          google.colab.kernel.accessAllowed ? 'block' : 'none';\n",
              "\n",
              "        async function convertToInteractive(key) {\n",
              "          const element = document.querySelector('#df-ac72e87f-d64e-47b5-be6c-03fb08821a38');\n",
              "          const dataTable =\n",
              "            await google.colab.kernel.invokeFunction('convertToInteractive',\n",
              "                                                     [key], {});\n",
              "          if (!dataTable) return;\n",
              "\n",
              "          const docLinkHtml = 'Like what you see? Visit the ' +\n",
              "            '<a target=\"_blank\" href=https://colab.research.google.com/notebooks/data_table.ipynb>data table notebook</a>'\n",
              "            + ' to learn more about interactive tables.';\n",
              "          element.innerHTML = '';\n",
              "          dataTable['output_type'] = 'display_data';\n",
              "          await google.colab.output.renderOutput(dataTable, element);\n",
              "          const docLink = document.createElement('div');\n",
              "          docLink.innerHTML = docLinkHtml;\n",
              "          element.appendChild(docLink);\n",
              "        }\n",
              "      </script>\n",
              "    </div>\n",
              "  </div>\n",
              "  "
            ]
          },
          "metadata": {},
          "execution_count": 22
        }
      ]
    },
    {
      "cell_type": "code",
      "source": [
        "sample_df = diabetes_df.sample(frac=0.1, random_state=17)"
      ],
      "metadata": {
        "id": "lxY7PylZ4p2S"
      },
      "execution_count": 23,
      "outputs": []
    },
    {
      "cell_type": "code",
      "source": [
        "sample_df.head()"
      ],
      "metadata": {
        "colab": {
          "base_uri": "https://localhost:8080/",
          "height": 206
        },
        "id": "wrFEiT-m5Az6",
        "outputId": "58cfa5d0-9a10-4077-9212-c54a2ad82501"
      },
      "execution_count": 25,
      "outputs": [
        {
          "output_type": "execute_result",
          "data": {
            "text/plain": [
              "        age     sex     bmi      bp      s1      s2      s3      s4      s5  \\\n",
              "80   0.0708 -0.0446  0.0121  0.0425  0.0714  0.0535  0.0523 -0.0026  0.0254   \n",
              "325 -0.0019 -0.0446  0.0542 -0.0665  0.0727  0.0566 -0.0434  0.0849  0.0845   \n",
              "227  0.0671  0.0507 -0.0299  0.0574 -0.0002 -0.0157  0.0744 -0.0506 -0.0385   \n",
              "298  0.0235  0.0507 -0.0375 -0.0470 -0.0910 -0.0755 -0.0324 -0.0395 -0.0308   \n",
              "58   0.0417 -0.0446 -0.0644  0.0356  0.0122 -0.0580  0.1812 -0.0764 -0.0006   \n",
              "\n",
              "         s6  DiseaseProg  \n",
              "80  -0.0052        143.0  \n",
              "325  0.0486        192.0  \n",
              "227  0.0072        108.0  \n",
              "298 -0.0135        129.0  \n",
              "58  -0.0508        170.0  "
            ],
            "text/html": [
              "\n",
              "  <div id=\"df-1762ad0d-c426-4573-b688-0d01ae0b23b8\">\n",
              "    <div class=\"colab-df-container\">\n",
              "      <div>\n",
              "<style scoped>\n",
              "    .dataframe tbody tr th:only-of-type {\n",
              "        vertical-align: middle;\n",
              "    }\n",
              "\n",
              "    .dataframe tbody tr th {\n",
              "        vertical-align: top;\n",
              "    }\n",
              "\n",
              "    .dataframe thead th {\n",
              "        text-align: right;\n",
              "    }\n",
              "</style>\n",
              "<table border=\"1\" class=\"dataframe\">\n",
              "  <thead>\n",
              "    <tr style=\"text-align: right;\">\n",
              "      <th></th>\n",
              "      <th>age</th>\n",
              "      <th>sex</th>\n",
              "      <th>bmi</th>\n",
              "      <th>bp</th>\n",
              "      <th>s1</th>\n",
              "      <th>s2</th>\n",
              "      <th>s3</th>\n",
              "      <th>s4</th>\n",
              "      <th>s5</th>\n",
              "      <th>s6</th>\n",
              "      <th>DiseaseProg</th>\n",
              "    </tr>\n",
              "  </thead>\n",
              "  <tbody>\n",
              "    <tr>\n",
              "      <th>80</th>\n",
              "      <td>0.0708</td>\n",
              "      <td>-0.0446</td>\n",
              "      <td>0.0121</td>\n",
              "      <td>0.0425</td>\n",
              "      <td>0.0714</td>\n",
              "      <td>0.0535</td>\n",
              "      <td>0.0523</td>\n",
              "      <td>-0.0026</td>\n",
              "      <td>0.0254</td>\n",
              "      <td>-0.0052</td>\n",
              "      <td>143.0</td>\n",
              "    </tr>\n",
              "    <tr>\n",
              "      <th>325</th>\n",
              "      <td>-0.0019</td>\n",
              "      <td>-0.0446</td>\n",
              "      <td>0.0542</td>\n",
              "      <td>-0.0665</td>\n",
              "      <td>0.0727</td>\n",
              "      <td>0.0566</td>\n",
              "      <td>-0.0434</td>\n",
              "      <td>0.0849</td>\n",
              "      <td>0.0845</td>\n",
              "      <td>0.0486</td>\n",
              "      <td>192.0</td>\n",
              "    </tr>\n",
              "    <tr>\n",
              "      <th>227</th>\n",
              "      <td>0.0671</td>\n",
              "      <td>0.0507</td>\n",
              "      <td>-0.0299</td>\n",
              "      <td>0.0574</td>\n",
              "      <td>-0.0002</td>\n",
              "      <td>-0.0157</td>\n",
              "      <td>0.0744</td>\n",
              "      <td>-0.0506</td>\n",
              "      <td>-0.0385</td>\n",
              "      <td>0.0072</td>\n",
              "      <td>108.0</td>\n",
              "    </tr>\n",
              "    <tr>\n",
              "      <th>298</th>\n",
              "      <td>0.0235</td>\n",
              "      <td>0.0507</td>\n",
              "      <td>-0.0375</td>\n",
              "      <td>-0.0470</td>\n",
              "      <td>-0.0910</td>\n",
              "      <td>-0.0755</td>\n",
              "      <td>-0.0324</td>\n",
              "      <td>-0.0395</td>\n",
              "      <td>-0.0308</td>\n",
              "      <td>-0.0135</td>\n",
              "      <td>129.0</td>\n",
              "    </tr>\n",
              "    <tr>\n",
              "      <th>58</th>\n",
              "      <td>0.0417</td>\n",
              "      <td>-0.0446</td>\n",
              "      <td>-0.0644</td>\n",
              "      <td>0.0356</td>\n",
              "      <td>0.0122</td>\n",
              "      <td>-0.0580</td>\n",
              "      <td>0.1812</td>\n",
              "      <td>-0.0764</td>\n",
              "      <td>-0.0006</td>\n",
              "      <td>-0.0508</td>\n",
              "      <td>170.0</td>\n",
              "    </tr>\n",
              "  </tbody>\n",
              "</table>\n",
              "</div>\n",
              "      <button class=\"colab-df-convert\" onclick=\"convertToInteractive('df-1762ad0d-c426-4573-b688-0d01ae0b23b8')\"\n",
              "              title=\"Convert this dataframe to an interactive table.\"\n",
              "              style=\"display:none;\">\n",
              "        \n",
              "  <svg xmlns=\"http://www.w3.org/2000/svg\" height=\"24px\"viewBox=\"0 0 24 24\"\n",
              "       width=\"24px\">\n",
              "    <path d=\"M0 0h24v24H0V0z\" fill=\"none\"/>\n",
              "    <path d=\"M18.56 5.44l.94 2.06.94-2.06 2.06-.94-2.06-.94-.94-2.06-.94 2.06-2.06.94zm-11 1L8.5 8.5l.94-2.06 2.06-.94-2.06-.94L8.5 2.5l-.94 2.06-2.06.94zm10 10l.94 2.06.94-2.06 2.06-.94-2.06-.94-.94-2.06-.94 2.06-2.06.94z\"/><path d=\"M17.41 7.96l-1.37-1.37c-.4-.4-.92-.59-1.43-.59-.52 0-1.04.2-1.43.59L10.3 9.45l-7.72 7.72c-.78.78-.78 2.05 0 2.83L4 21.41c.39.39.9.59 1.41.59.51 0 1.02-.2 1.41-.59l7.78-7.78 2.81-2.81c.8-.78.8-2.07 0-2.86zM5.41 20L4 18.59l7.72-7.72 1.47 1.35L5.41 20z\"/>\n",
              "  </svg>\n",
              "      </button>\n",
              "      \n",
              "  <style>\n",
              "    .colab-df-container {\n",
              "      display:flex;\n",
              "      flex-wrap:wrap;\n",
              "      gap: 12px;\n",
              "    }\n",
              "\n",
              "    .colab-df-convert {\n",
              "      background-color: #E8F0FE;\n",
              "      border: none;\n",
              "      border-radius: 50%;\n",
              "      cursor: pointer;\n",
              "      display: none;\n",
              "      fill: #1967D2;\n",
              "      height: 32px;\n",
              "      padding: 0 0 0 0;\n",
              "      width: 32px;\n",
              "    }\n",
              "\n",
              "    .colab-df-convert:hover {\n",
              "      background-color: #E2EBFA;\n",
              "      box-shadow: 0px 1px 2px rgba(60, 64, 67, 0.3), 0px 1px 3px 1px rgba(60, 64, 67, 0.15);\n",
              "      fill: #174EA6;\n",
              "    }\n",
              "\n",
              "    [theme=dark] .colab-df-convert {\n",
              "      background-color: #3B4455;\n",
              "      fill: #D2E3FC;\n",
              "    }\n",
              "\n",
              "    [theme=dark] .colab-df-convert:hover {\n",
              "      background-color: #434B5C;\n",
              "      box-shadow: 0px 1px 3px 1px rgba(0, 0, 0, 0.15);\n",
              "      filter: drop-shadow(0px 1px 2px rgba(0, 0, 0, 0.3));\n",
              "      fill: #FFFFFF;\n",
              "    }\n",
              "  </style>\n",
              "\n",
              "      <script>\n",
              "        const buttonEl =\n",
              "          document.querySelector('#df-1762ad0d-c426-4573-b688-0d01ae0b23b8 button.colab-df-convert');\n",
              "        buttonEl.style.display =\n",
              "          google.colab.kernel.accessAllowed ? 'block' : 'none';\n",
              "\n",
              "        async function convertToInteractive(key) {\n",
              "          const element = document.querySelector('#df-1762ad0d-c426-4573-b688-0d01ae0b23b8');\n",
              "          const dataTable =\n",
              "            await google.colab.kernel.invokeFunction('convertToInteractive',\n",
              "                                                     [key], {});\n",
              "          if (!dataTable) return;\n",
              "\n",
              "          const docLinkHtml = 'Like what you see? Visit the ' +\n",
              "            '<a target=\"_blank\" href=https://colab.research.google.com/notebooks/data_table.ipynb>data table notebook</a>'\n",
              "            + ' to learn more about interactive tables.';\n",
              "          element.innerHTML = '';\n",
              "          dataTable['output_type'] = 'display_data';\n",
              "          await google.colab.output.renderOutput(dataTable, element);\n",
              "          const docLink = document.createElement('div');\n",
              "          docLink.innerHTML = docLinkHtml;\n",
              "          element.appendChild(docLink);\n",
              "        }\n",
              "      </script>\n",
              "    </div>\n",
              "  </div>\n",
              "  "
            ]
          },
          "metadata": {},
          "execution_count": 25
        }
      ]
    },
    {
      "cell_type": "code",
      "source": [
        "import matplotlib.pyplot as plt\n",
        "\n",
        "import seaborn as sns\n",
        "\n",
        "sns.set(font_scale=2)\n",
        "\n",
        "sns.set_style('whitegrid')"
      ],
      "metadata": {
        "id": "fwWH48X95D_C"
      },
      "execution_count": 28,
      "outputs": []
    },
    {
      "cell_type": "code",
      "source": [
        "#Remove the commenting from these lines to see the corollary graphs of features to target. \n",
        "#I commented it out because it made it annoying to scroll through the document.\n",
        "#for feature in diabetes.feature_names:\n",
        "  #plt.figure(figsize=(16, 9))\n",
        "  #sns.scatterplot(data=sample_df, x=feature, y='DiseaseProg', hue='DiseaseProg', palette='cool', legend=False)"
      ],
      "metadata": {
        "id": "rSi7uFE15236"
      },
      "execution_count": 38,
      "outputs": []
    },
    {
      "cell_type": "code",
      "source": [
        "X_train, X_test, y_train, y_test = train_test_split(diabetes.data, diabetes.target, random_state=42)"
      ],
      "metadata": {
        "id": "LGhn-8yT6EsT"
      },
      "execution_count": 43,
      "outputs": []
    },
    {
      "cell_type": "code",
      "source": [
        "#X_train \n",
        "#X_test\n",
        "#y_train\n",
        "y_test"
      ],
      "metadata": {
        "colab": {
          "base_uri": "https://localhost:8080/"
        },
        "id": "ZdpcCXH6Exo6",
        "outputId": "3c7afa76-8f43-42d8-dfeb-38228a6469af"
      },
      "execution_count": 50,
      "outputs": [
        {
          "output_type": "execute_result",
          "data": {
            "text/plain": [
              "array([219.,  70., 202., 230., 111.,  84., 242., 272.,  94.,  96.,  94.,\n",
              "       252.,  99., 297., 135.,  67., 295., 264., 170., 275., 310.,  64.,\n",
              "       128., 232., 129., 118., 263.,  77.,  48., 107., 140., 113.,  90.,\n",
              "       164., 180., 233.,  42.,  84., 172.,  63.,  48., 108., 156., 168.,\n",
              "        90.,  52., 200.,  87.,  90., 258., 136., 158.,  69.,  72., 171.,\n",
              "        95.,  72., 151., 168.,  60., 122.,  52., 187., 102., 214., 248.,\n",
              "       181., 110., 140., 202., 101., 222., 281.,  61.,  89.,  91., 186.,\n",
              "       220., 237., 233.,  68., 190.,  96.,  72., 153.,  98.,  37.,  63.,\n",
              "       184., 144., 150., 280., 125.,  59.,  65., 281., 277., 167.,  90.,\n",
              "        72., 178.,  88., 270., 101., 197.,  97.,  53.,  71., 262.,  52.,\n",
              "       102.])"
            ]
          },
          "metadata": {},
          "execution_count": 50
        }
      ]
    },
    {
      "cell_type": "code",
      "source": [
        "X_train.shape, X_test.shape, y_train.shape, y_test.shape"
      ],
      "metadata": {
        "colab": {
          "base_uri": "https://localhost:8080/"
        },
        "id": "2UauEB89E0X6",
        "outputId": "f8061bdf-9949-4612-d394-bf0225fa71ec"
      },
      "execution_count": 52,
      "outputs": [
        {
          "output_type": "execute_result",
          "data": {
            "text/plain": [
              "((331, 10), (111, 10), (331,), (111,))"
            ]
          },
          "metadata": {},
          "execution_count": 52
        }
      ]
    },
    {
      "cell_type": "code",
      "source": [
        "lin_reg = LinearRegression()"
      ],
      "metadata": {
        "id": "CiWjPu_PFVTH"
      },
      "execution_count": 54,
      "outputs": []
    },
    {
      "cell_type": "code",
      "source": [
        "lin_reg.fit(X=X_train, y=y_train)"
      ],
      "metadata": {
        "colab": {
          "base_uri": "https://localhost:8080/"
        },
        "id": "bkUZsg4UF8mP",
        "outputId": "45013dea-1701-494c-b607-ba84dcb96191"
      },
      "execution_count": 56,
      "outputs": [
        {
          "output_type": "execute_result",
          "data": {
            "text/plain": [
              "LinearRegression()"
            ]
          },
          "metadata": {},
          "execution_count": 56
        }
      ]
    },
    {
      "cell_type": "code",
      "source": [
        "LinearRegression(copy_X=True, fit_intercept=True, n_jobs=None, normalize=False)"
      ],
      "metadata": {
        "colab": {
          "base_uri": "https://localhost:8080/"
        },
        "id": "TtBL5k-EGAgf",
        "outputId": "1982f682-4e38-4417-bd40-6deb27cc6d48"
      },
      "execution_count": 57,
      "outputs": [
        {
          "output_type": "execute_result",
          "data": {
            "text/plain": [
              "LinearRegression(normalize=False)"
            ]
          },
          "metadata": {},
          "execution_count": 57
        }
      ]
    },
    {
      "cell_type": "code",
      "source": [
        "for i, name in enumerate(diabetes.feature_names): print(f'{name:>10}: {lin_reg.coef_[i]}')\n",
        "#positive result = direct relationship\n",
        "#negative result = indirect relationship"
      ],
      "metadata": {
        "colab": {
          "base_uri": "https://localhost:8080/"
        },
        "id": "XwujlTgwGZcv",
        "outputId": "7f42c98e-87d2-4733-98ba-ccb80a7a1895"
      },
      "execution_count": 59,
      "outputs": [
        {
          "output_type": "stream",
          "name": "stdout",
          "text": [
            "       age: 47.74657117353083\n",
            "       sex: -241.99180361087875\n",
            "       bmi: 531.9685689647108\n",
            "        bp: 381.5652992182253\n",
            "        s1: -918.4902055208906\n",
            "        s2: 508.2514738468459\n",
            "        s3: 116.9404049801572\n",
            "        s4: 269.4850857088445\n",
            "        s5: 695.8062205026963\n",
            "        s6: 26.323431441266933\n"
          ]
        }
      ]
    },
    {
      "cell_type": "code",
      "source": [
        "predicted = lin_reg.predict(X_test)\n",
        "expected = y_test"
      ],
      "metadata": {
        "id": "3g-JJFs7GjQz"
      },
      "execution_count": 60,
      "outputs": []
    },
    {
      "cell_type": "code",
      "source": [
        "predicted[:5]"
      ],
      "metadata": {
        "colab": {
          "base_uri": "https://localhost:8080/"
        },
        "id": "lQECdhQZHD47",
        "outputId": "18e5c04d-a0dc-4322-879b-6cb2c65da084"
      },
      "execution_count": 61,
      "outputs": [
        {
          "output_type": "execute_result",
          "data": {
            "text/plain": [
              "array([137.94979889, 182.53621462, 129.85554049, 292.55738727,\n",
              "       124.86559124])"
            ]
          },
          "metadata": {},
          "execution_count": 61
        }
      ]
    },
    {
      "cell_type": "code",
      "source": [
        "expected[:5]"
      ],
      "metadata": {
        "colab": {
          "base_uri": "https://localhost:8080/"
        },
        "id": "3hU_MrnJHQJT",
        "outputId": "7a602d9c-ab7e-4551-c66b-5872d8a660c1"
      },
      "execution_count": 62,
      "outputs": [
        {
          "output_type": "execute_result",
          "data": {
            "text/plain": [
              "array([219.,  70., 202., 230., 111.])"
            ]
          },
          "metadata": {},
          "execution_count": 62
        }
      ]
    },
    {
      "cell_type": "code",
      "source": [
        "df = pd.DataFrame()\n",
        "df['Expected'] = pd.Series(expected)\n",
        "df['Predicted'] = pd.Series(predicted)"
      ],
      "metadata": {
        "id": "nx0SC3aWHSVD"
      },
      "execution_count": 63,
      "outputs": []
    },
    {
      "cell_type": "code",
      "source": [
        "\n",
        "figure = plt.figure(figsize=(11, 11))\n",
        "axes = sns.scatterplot(data=df, x='Expected', y='Predicted', hue='Predicted', palette='cool', legend=False)"
      ],
      "metadata": {
        "colab": {
          "base_uri": "https://localhost:8080/",
          "height": 686
        },
        "id": "zWKGHWcZHo-v",
        "outputId": "18bd62be-0123-4ef3-e071-05038ebfb8ac"
      },
      "execution_count": 73,
      "outputs": [
        {
          "output_type": "display_data",
          "data": {
            "text/plain": [
              "<Figure size 792x792 with 1 Axes>"
            ],
            "image/png": "[encoded data removed]"
          },
          "metadata": {}
        }
      ]
    },
    {
      "cell_type": "code",
      "source": [
        "start = min(expected.min(), predicted.min())\n",
        "end = max(expected.max(), predicted.max())"
      ],
      "metadata": {
        "id": "HtFfC8QtH41_"
      },
      "execution_count": 66,
      "outputs": []
    },
    {
      "cell_type": "code",
      "source": [
        "axes.set_xlim(start, end)"
      ],
      "metadata": {
        "colab": {
          "base_uri": "https://localhost:8080/"
        },
        "id": "j-jyjR-JISVA",
        "outputId": "0eb5fe46-b73d-4f64-ddb9-3d31473d4b98"
      },
      "execution_count": 67,
      "outputs": [
        {
          "output_type": "execute_result",
          "data": {
            "text/plain": [
              "(37.0, 310.0)"
            ]
          },
          "metadata": {},
          "execution_count": 67
        }
      ]
    },
    {
      "cell_type": "code",
      "source": [
        "axes.set_ylim(start, end)"
      ],
      "metadata": {
        "colab": {
          "base_uri": "https://localhost:8080/"
        },
        "id": "uwiplhvWIS9M",
        "outputId": "31e6e7f8-b8c4-46dd-d374-aece5a487d6e"
      },
      "execution_count": 68,
      "outputs": [
        {
          "output_type": "execute_result",
          "data": {
            "text/plain": [
              "(37.0, 310.0)"
            ]
          },
          "metadata": {},
          "execution_count": 68
        }
      ]
    },
    {
      "cell_type": "code",
      "source": [
        "#perfect prediction line\n",
        "plt.plot([start, end], [start, end], 'k--')"
      ],
      "metadata": {
        "colab": {
          "base_uri": "https://localhost:8080/",
          "height": 295
        },
        "id": "eDoG0N9-IVD3",
        "outputId": "d818a769-f9d2-4766-97ab-e1f9296da3c7"
      },
      "execution_count": 69,
      "outputs": [
        {
          "output_type": "execute_result",
          "data": {
            "text/plain": [
              "[<matplotlib.lines.Line2D at 0x7f6636804c90>]"
            ]
          },
          "metadata": {},
          "execution_count": 69
        },
        {
          "output_type": "display_data",
          "data": {
            "text/plain": [
              "<Figure size 432x288 with 1 Axes>"
            ],
            "image/png": "[encoded data removed]"
          },
          "metadata": {}
        }
      ]
    },
    {
      "cell_type": "code",
      "source": [
        "#scatterplot with overlay of the perfect prediction line\n",
        "figure = plt.figure(figsize=(11, 11))\n",
        "axes = sns.scatterplot(data=df, x='Expected', y='Predicted', hue='Predicted', palette='cool', legend=False)\n",
        "plt.plot([start, end], [start, end], 'k--')"
      ],
      "metadata": {
        "colab": {
          "base_uri": "https://localhost:8080/",
          "height": 703
        },
        "id": "qAPaDl-yIcID",
        "outputId": "23628439-cc12-4886-8aa2-b557976c6dea"
      },
      "execution_count": 72,
      "outputs": [
        {
          "output_type": "execute_result",
          "data": {
            "text/plain": [
              "[<matplotlib.lines.Line2D at 0x7f6636b6ed90>]"
            ]
          },
          "metadata": {},
          "execution_count": 72
        },
        {
          "output_type": "display_data",
          "data": {
            "text/plain": [
              "<Figure size 792x792 with 1 Axes>"
            ],
            "image/png": "[encoded data removed]"
          },
          "metadata": {}
        }
      ]
    },
    {
      "cell_type": "code",
      "source": [
        "#R2 score calculator\n",
        "metrics.r2_score(expected, predicted)"
      ],
      "metadata": {
        "colab": {
          "base_uri": "https://localhost:8080/"
        },
        "id": "Cs87vHFRJhWM",
        "outputId": "f42a2324-e343-4649-db63-53ddfc71f52c"
      },
      "execution_count": 75,
      "outputs": [
        {
          "output_type": "execute_result",
          "data": {
            "text/plain": [
              "0.48490866359057994"
            ]
          },
          "metadata": {},
          "execution_count": 75
        }
      ]
    },
    {
      "cell_type": "code",
      "source": [
        "#Mean Squared Error Calculation\n",
        "metrics.mean_squared_error(expected, predicted)"
      ],
      "metadata": {
        "colab": {
          "base_uri": "https://localhost:8080/"
        },
        "id": "lOurNCtYKz6g",
        "outputId": "3bc0eecf-8fb3-4857-81bf-03f7980cf90e"
      },
      "execution_count": 76,
      "outputs": [
        {
          "output_type": "execute_result",
          "data": {
            "text/plain": [
              "2848.2953079329445"
            ]
          },
          "metadata": {},
          "execution_count": 76
        }
      ]
    },
    {
      "cell_type": "code",
      "source": [
        "estimators = {'LinearRegression': lin_reg, 'ElasticNet': ElasticNet(), 'Lasso': Lasso(), 'Ridge': Ridge()}"
      ],
      "metadata": {
        "id": "He44ViPaLC-w"
      },
      "execution_count": 79,
      "outputs": []
    },
    {
      "cell_type": "code",
      "source": [
        "#This loop tests several models and returns the R2 score for each\n",
        "#Since being closer to 1 is best, it looks like the Linear Regression and Rigde scored highest with this data set. Although, none of the models scored very high.\n",
        "for estimator_name, estimator_object in estimators.items():\n",
        "    kfold = KFold(n_splits=10, random_state=11, shuffle=True) \n",
        "    scores = cross_val_score(estimator=estimator_object, X=diabetes.data, y=diabetes.target, cv=kfold, scoring='r2') \n",
        "    print(f'{estimator_name:>16}: ' + f'mean of r2 scores={scores.mean():.3f}')\n"
      ],
      "metadata": {
        "colab": {
          "base_uri": "https://localhost:8080/"
        },
        "id": "nV9B-y_BLmIY",
        "outputId": "b97485c2-ad1a-436a-82ac-f0c7126d87bb"
      },
      "execution_count": 82,
      "outputs": [
        {
          "output_type": "stream",
          "name": "stdout",
          "text": [
            "LinearRegression: mean of r2 scores=0.475\n",
            "      ElasticNet: mean of r2 scores=-0.002\n",
            "           Lasso: mean of r2 scores=0.339\n",
            "           Ridge: mean of r2 scores=0.421\n"
          ]
        }
      ]
    },
    {
      "cell_type": "code",
      "source": [],
      "metadata": {
        "id": "j_gPtrmtMSnh"
      },
      "execution_count": null,
      "outputs": []
    }
  ]
}