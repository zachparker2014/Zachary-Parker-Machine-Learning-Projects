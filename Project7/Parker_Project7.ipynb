{
  "nbformat": 4,
  "nbformat_minor": 0,
  "metadata": {
    "colab": {
      "provenance": [],
      "authorship_tag": "ABX9TyNjMYBj4kD2QP3XSk6QtRDV",
      "include_colab_link": true
    },
    "kernelspec": {
      "name": "python3",
      "display_name": "Python 3"
    },
    "language_info": {
      "name": "python"
    },
    "accelerator": "TPU"
  },
  "cells": [
    {
      "cell_type": "markdown",
      "metadata": {
        "id": "view-in-github",
        "colab_type": "text"
      },
      "source": [
        "<a href=\"https://colab.research.google.com/github/zachparker2014/Zachary-Parker-IntrotoMachineLearning/blob/main/ParkerHW7.ipynb\" target=\"_parent\"><img src=\"https://colab.research.google.com/assets/colab-badge.svg\" alt=\"Open In Colab\"/></a>"
      ]
    },
    {
      "cell_type": "code",
      "execution_count": 1,
      "metadata": {
        "id": "a_BKQXMv7VXq"
      },
      "outputs": [],
      "source": [
        "%load_ext tensorboard"
      ]
    },
    {
      "cell_type": "code",
      "source": [
        "from tensorflow.keras.datasets import fashion_mnist\n",
        "(X_train, Y_train), (X_test, Y_test) = fashion_mnist.load_data()"
      ],
      "metadata": {
        "colab": {
          "base_uri": "https://localhost:8080/",
          "height": 0
        },
        "id": "RGHSeo2AsApW",
        "outputId": "7bf76cdd-8ec1-4a9d-8a87-5ed89a0ddf94"
      },
      "execution_count": 5,
      "outputs": [
        {
          "output_type": "stream",
          "name": "stdout",
          "text": [
            "Downloading data from https://storage.googleapis.com/tensorflow/tf-keras-datasets/train-labels-idx1-ubyte.gz\n",
            "32768/29515 [=================================] - 0s 0us/step\n",
            "40960/29515 [=========================================] - 0s 0us/step\n",
            "Downloading data from https://storage.googleapis.com/tensorflow/tf-keras-datasets/train-images-idx3-ubyte.gz\n",
            "26427392/26421880 [==============================] - 0s 0us/step\n",
            "26435584/26421880 [==============================] - 0s 0us/step\n",
            "Downloading data from https://storage.googleapis.com/tensorflow/tf-keras-datasets/t10k-labels-idx1-ubyte.gz\n",
            "16384/5148 [===============================================================================================] - 0s 0us/step\n",
            "Downloading data from https://storage.googleapis.com/tensorflow/tf-keras-datasets/t10k-images-idx3-ubyte.gz\n",
            "4423680/4422102 [==============================] - 0s 0us/step\n",
            "4431872/4422102 [==============================] - 0s 0us/step\n"
          ]
        }
      ]
    },
    {
      "cell_type": "code",
      "source": [
        "X_train.shape"
      ],
      "metadata": {
        "colab": {
          "base_uri": "https://localhost:8080/",
          "height": 0
        },
        "id": "_Dko8lwGsRFL",
        "outputId": "d213b830-9d9b-414c-e8b4-b049f937b05f"
      },
      "execution_count": 11,
      "outputs": [
        {
          "output_type": "execute_result",
          "data": {
            "text/plain": [
              "(60000, 28, 28)"
            ]
          },
          "metadata": {},
          "execution_count": 11
        }
      ]
    },
    {
      "cell_type": "code",
      "source": [
        "Y_train.shape"
      ],
      "metadata": {
        "colab": {
          "base_uri": "https://localhost:8080/",
          "height": 0
        },
        "id": "xuFlbdzKs5tD",
        "outputId": "24d5192e-abb7-44d6-ebb3-39be35453595"
      },
      "execution_count": 10,
      "outputs": [
        {
          "output_type": "execute_result",
          "data": {
            "text/plain": [
              "(60000,)"
            ]
          },
          "metadata": {},
          "execution_count": 10
        }
      ]
    },
    {
      "cell_type": "code",
      "source": [
        "X_test.shape"
      ],
      "metadata": {
        "colab": {
          "base_uri": "https://localhost:8080/",
          "height": 0
        },
        "id": "ma1zUkxstBgB",
        "outputId": "8fe45ce7-a43c-46a4-cc45-7de86ba53f93"
      },
      "execution_count": 12,
      "outputs": [
        {
          "output_type": "execute_result",
          "data": {
            "text/plain": [
              "(10000, 28, 28)"
            ]
          },
          "metadata": {},
          "execution_count": 12
        }
      ]
    },
    {
      "cell_type": "code",
      "source": [
        "Y_test.shape"
      ],
      "metadata": {
        "colab": {
          "base_uri": "https://localhost:8080/",
          "height": 0
        },
        "id": "FcdyJay2tEcJ",
        "outputId": "b382d940-c996-43fa-c5ad-c8514b2a18e3"
      },
      "execution_count": 13,
      "outputs": [
        {
          "output_type": "execute_result",
          "data": {
            "text/plain": [
              "(10000,)"
            ]
          },
          "metadata": {},
          "execution_count": 13
        }
      ]
    },
    {
      "cell_type": "code",
      "source": [
        "X_train = X_train.reshape((60000, 28, 28, 1))\n",
        "X_train.shape"
      ],
      "metadata": {
        "colab": {
          "base_uri": "https://localhost:8080/",
          "height": 0
        },
        "id": "f00JPiQitGi5",
        "outputId": "01d2bc8d-d6bd-4877-c5d2-589d89c257d5"
      },
      "execution_count": 15,
      "outputs": [
        {
          "output_type": "execute_result",
          "data": {
            "text/plain": [
              "(60000, 28, 28, 1)"
            ]
          },
          "metadata": {},
          "execution_count": 15
        }
      ]
    },
    {
      "cell_type": "code",
      "source": [
        "X_test = X_test.reshape((10000, 28, 28, 1))\n",
        "X_test.shape"
      ],
      "metadata": {
        "colab": {
          "base_uri": "https://localhost:8080/",
          "height": 0
        },
        "id": "uUZij1MztMxJ",
        "outputId": "e15b96a3-d6cc-4574-dabd-de0eb72eb1d5"
      },
      "execution_count": 16,
      "outputs": [
        {
          "output_type": "execute_result",
          "data": {
            "text/plain": [
              "(10000, 28, 28, 1)"
            ]
          },
          "metadata": {},
          "execution_count": 16
        }
      ]
    },
    {
      "cell_type": "code",
      "source": [
        "X_train = X_train.astype('float32') / 255\n",
        "X_test = X_test.astype('float32') / 25"
      ],
      "metadata": {
        "id": "cmEJZIMxtSik"
      },
      "execution_count": 17,
      "outputs": []
    },
    {
      "cell_type": "code",
      "source": [
        "from tensorflow.keras.utils import to_categorical\n",
        "y_train = to_categorical(Y_train)\n",
        "y_train.shape"
      ],
      "metadata": {
        "colab": {
          "base_uri": "https://localhost:8080/",
          "height": 0
        },
        "id": "VhVJ706EtcyB",
        "outputId": "240aef59-b9f3-4f73-c8fb-286df60834e1"
      },
      "execution_count": 20,
      "outputs": [
        {
          "output_type": "execute_result",
          "data": {
            "text/plain": [
              "(60000, 10)"
            ]
          },
          "metadata": {},
          "execution_count": 20
        }
      ]
    },
    {
      "cell_type": "code",
      "source": [
        "y_train[0]"
      ],
      "metadata": {
        "colab": {
          "base_uri": "https://localhost:8080/",
          "height": 0
        },
        "id": "yLIXucXnt5MD",
        "outputId": "65b8334e-b698-45b9-8446-682e6ba37125"
      },
      "execution_count": 21,
      "outputs": [
        {
          "output_type": "execute_result",
          "data": {
            "text/plain": [
              "array([0., 0., 0., 0., 0., 0., 0., 0., 0., 1.], dtype=float32)"
            ]
          },
          "metadata": {},
          "execution_count": 21
        }
      ]
    },
    {
      "cell_type": "code",
      "source": [
        "y_test = to_categorical(Y_test)\n",
        "y_test.shape"
      ],
      "metadata": {
        "colab": {
          "base_uri": "https://localhost:8080/",
          "height": 0
        },
        "id": "4BXR8313t7ph",
        "outputId": "fd6d1f56-19a7-4447-ad78-7cb9130146e2"
      },
      "execution_count": 22,
      "outputs": [
        {
          "output_type": "execute_result",
          "data": {
            "text/plain": [
              "(10000, 10)"
            ]
          },
          "metadata": {},
          "execution_count": 22
        }
      ]
    },
    {
      "cell_type": "code",
      "source": [
        "from tensorflow.keras.models import Sequential\n",
        "cnn = Sequential()"
      ],
      "metadata": {
        "id": "6ShVL15OuFAw"
      },
      "execution_count": 23,
      "outputs": []
    },
    {
      "cell_type": "code",
      "source": [
        "from tensorflow.keras.layers import Conv2D, Dense, Flatten, MaxPooling2D"
      ],
      "metadata": {
        "id": "8zOYDfISuVpJ"
      },
      "execution_count": 24,
      "outputs": []
    },
    {
      "cell_type": "code",
      "source": [
        "cnn.add(Conv2D(filters=64, kernel_size=(3, 3), activation='relu', input_shape=(28, 28, 1)))"
      ],
      "metadata": {
        "id": "g4Evg5bVuZqZ"
      },
      "execution_count": 25,
      "outputs": []
    },
    {
      "cell_type": "code",
      "source": [
        "cnn.add(MaxPooling2D(pool_size=(2, 2)))"
      ],
      "metadata": {
        "id": "5N7FuLcpuogK"
      },
      "execution_count": 26,
      "outputs": []
    },
    {
      "cell_type": "code",
      "source": [
        "cnn.add(Conv2D(filters=128, kernel_size=(3, 3), activation='relu'))\n",
        "cnn.add(MaxPooling2D(pool_size=(2, 2)))"
      ],
      "metadata": {
        "id": "R1gd_QSPusbw"
      },
      "execution_count": 27,
      "outputs": []
    },
    {
      "cell_type": "code",
      "source": [
        "cnn.add(Flatten())"
      ],
      "metadata": {
        "id": "KDLWc_CRuwYd"
      },
      "execution_count": 28,
      "outputs": []
    },
    {
      "cell_type": "code",
      "source": [
        "cnn.add(Dense(units=128, activation='relu'))"
      ],
      "metadata": {
        "id": "-yUEPILTuzz0"
      },
      "execution_count": 29,
      "outputs": []
    },
    {
      "cell_type": "code",
      "source": [
        "cnn.add(Dense(units=10, activation='softmax'))"
      ],
      "metadata": {
        "id": "5cdgzOaou2D-"
      },
      "execution_count": 30,
      "outputs": []
    },
    {
      "cell_type": "code",
      "source": [
        "cnn.summary()"
      ],
      "metadata": {
        "colab": {
          "base_uri": "https://localhost:8080/",
          "height": 0
        },
        "id": "LNUNrULiu4cK",
        "outputId": "bb83cbaf-407c-408e-a4eb-957098b54ad5"
      },
      "execution_count": 31,
      "outputs": [
        {
          "output_type": "stream",
          "name": "stdout",
          "text": [
            "Model: \"sequential\"\n",
            "_________________________________________________________________\n",
            " Layer (type)                Output Shape              Param #   \n",
            "=================================================================\n",
            " conv2d (Conv2D)             (None, 26, 26, 64)        640       \n",
            "                                                                 \n",
            " max_pooling2d (MaxPooling2D  (None, 13, 13, 64)       0         \n",
            " )                                                               \n",
            "                                                                 \n",
            " conv2d_1 (Conv2D)           (None, 11, 11, 128)       73856     \n",
            "                                                                 \n",
            " max_pooling2d_1 (MaxPooling  (None, 5, 5, 128)        0         \n",
            " 2D)                                                             \n",
            "                                                                 \n",
            " flatten (Flatten)           (None, 3200)              0         \n",
            "                                                                 \n",
            " dense (Dense)               (None, 128)               409728    \n",
            "                                                                 \n",
            " dense_1 (Dense)             (None, 10)                1290      \n",
            "                                                                 \n",
            "=================================================================\n",
            "Total params: 485,514\n",
            "Trainable params: 485,514\n",
            "Non-trainable params: 0\n",
            "_________________________________________________________________\n"
          ]
        }
      ]
    },
    {
      "cell_type": "code",
      "source": [
        "from tensorflow.keras.utils import plot_model\n",
        "from IPython.display import Image\n",
        "plot_model(cnn, to_file='convnet.png', show_shapes=True, show_layer_names=True)\n",
        "Image(filename='convnet.png')"
      ],
      "metadata": {
        "colab": {
          "base_uri": "https://localhost:8080/",
          "height": 797
        },
        "id": "snMuqp-wvEKc",
        "outputId": "42c8d969-de33-4bdc-ff6a-c7aa668090f9"
      },
      "execution_count": 32,
      "outputs": [
        {
          "output_type": "execute_result",
          "data": {
            "image/png": "[encoded data removed]",
            "text/plain": [
              "<IPython.core.display.Image object>"
            ]
          },
          "metadata": {},
          "execution_count": 32
        }
      ]
    },
    {
      "cell_type": "code",
      "source": [
        "cnn.compile(optimizer='adam', loss='categorical_crossentropy', metrics=['accuracy'])"
      ],
      "metadata": {
        "id": "N4dTu1VYvPpB"
      },
      "execution_count": 33,
      "outputs": []
    },
    {
      "cell_type": "code",
      "source": [
        "cnn.fit(X_train, y_train, epochs=5, batch_size=64, validation_split=0.1)"
      ],
      "metadata": {
        "colab": {
          "base_uri": "https://localhost:8080/",
          "height": 0
        },
        "id": "YawsGdqmvVhX",
        "outputId": "87d65b80-5655-403a-cd0f-2beaede7ab8b"
      },
      "execution_count": 34,
      "outputs": [
        {
          "output_type": "stream",
          "name": "stdout",
          "text": [
            "Epoch 1/5\n",
            "844/844 [==============================] - 116s 136ms/step - loss: 0.4576 - accuracy: 0.8361 - val_loss: 0.3500 - val_accuracy: 0.8722\n",
            "Epoch 2/5\n",
            "844/844 [==============================] - 118s 140ms/step - loss: 0.3012 - accuracy: 0.8906 - val_loss: 0.2859 - val_accuracy: 0.8898\n",
            "Epoch 3/5\n",
            "844/844 [==============================] - 114s 135ms/step - loss: 0.2520 - accuracy: 0.9071 - val_loss: 0.2659 - val_accuracy: 0.8992\n",
            "Epoch 4/5\n",
            "844/844 [==============================] - 114s 135ms/step - loss: 0.2177 - accuracy: 0.9200 - val_loss: 0.2497 - val_accuracy: 0.9088\n",
            "Epoch 5/5\n",
            "844/844 [==============================] - 114s 135ms/step - loss: 0.1922 - accuracy: 0.9279 - val_loss: 0.2351 - val_accuracy: 0.9137\n"
          ]
        },
        {
          "output_type": "execute_result",
          "data": {
            "text/plain": [
              "<keras.callbacks.History at 0x7f15df9df3d0>"
            ]
          },
          "metadata": {},
          "execution_count": 34
        }
      ]
    },
    {
      "cell_type": "code",
      "source": [
        "#Here, the training time for this dataset was much faster at about 20ms/step when compared to the mnist dataset at 366ms/step\n",
        "loss, accuracy = cnn.evaluate(X_test, y_test)"
      ],
      "metadata": {
        "colab": {
          "base_uri": "https://localhost:8080/",
          "height": 0
        },
        "id": "Jxe0D2bRvdcc",
        "outputId": "b475801a-5ba3-423d-da84-bfc9d4b894dc"
      },
      "execution_count": 46,
      "outputs": [
        {
          "output_type": "stream",
          "name": "stdout",
          "text": [
            "313/313 [==============================] - 6s 19ms/step - loss: 2.2157 - accuracy: 0.8308\n"
          ]
        }
      ]
    },
    {
      "cell_type": "code",
      "source": [
        "loss"
      ],
      "metadata": {
        "colab": {
          "base_uri": "https://localhost:8080/",
          "height": 0
        },
        "id": "b-j01ZA5x64z",
        "outputId": "19cdac3b-58d4-490a-8f02-b782676ae411"
      },
      "execution_count": 36,
      "outputs": [
        {
          "output_type": "execute_result",
          "data": {
            "text/plain": [
              "2.2156996726989746"
            ]
          },
          "metadata": {},
          "execution_count": 36
        }
      ]
    },
    {
      "cell_type": "code",
      "source": [
        "#From this result, we can see that the model does not perform as well on the fashion-mnist dataset as well as it did on the mnist dataset\n",
        "#here the accuracy is 83% whereas there was an accuracy of 99% for the mnist dataset\n",
        "accuracy"
      ],
      "metadata": {
        "colab": {
          "base_uri": "https://localhost:8080/",
          "height": 0
        },
        "id": "WNCG5Pm4x_u4",
        "outputId": "c9fc10a1-75f9-47ad-b3c4-0ad66ad85f80"
      },
      "execution_count": 44,
      "outputs": [
        {
          "output_type": "execute_result",
          "data": {
            "text/plain": [
              "0.8307999968528748"
            ]
          },
          "metadata": {},
          "execution_count": 44
        }
      ]
    },
    {
      "cell_type": "code",
      "source": [
        "predictions = cnn.predict(X_test)"
      ],
      "metadata": {
        "id": "Gkjt8lOxyBbn"
      },
      "execution_count": 38,
      "outputs": []
    },
    {
      "cell_type": "code",
      "source": [
        "y_test[0]"
      ],
      "metadata": {
        "colab": {
          "base_uri": "https://localhost:8080/",
          "height": 0
        },
        "id": "Ri6fAtmmyIYn",
        "outputId": "b7301589-e531-42ef-cb52-0355c6ae8ec3"
      },
      "execution_count": 39,
      "outputs": [
        {
          "output_type": "execute_result",
          "data": {
            "text/plain": [
              "array([0., 0., 0., 0., 0., 0., 0., 0., 0., 1.], dtype=float32)"
            ]
          },
          "metadata": {},
          "execution_count": 39
        }
      ]
    },
    {
      "cell_type": "code",
      "source": [
        "for index, probability in enumerate(predictions[0]):\n",
        "  print(f'{index}: {probability:.10%}')"
      ],
      "metadata": {
        "colab": {
          "base_uri": "https://localhost:8080/",
          "height": 0
        },
        "id": "P8ifraB6yLen",
        "outputId": "d0b6e0bf-16d1-48e8-c156-eccc885dd9dd"
      },
      "execution_count": 40,
      "outputs": [
        {
          "output_type": "stream",
          "name": "stdout",
          "text": [
            "0: 0.0000000000%\n",
            "1: 0.0000000000%\n",
            "2: 0.0000000000%\n",
            "3: 0.0000000000%\n",
            "4: 0.0000000000%\n",
            "5: 0.0000000000%\n",
            "6: 0.0000000000%\n",
            "7: 0.0000000000%\n",
            "8: 0.0000000000%\n",
            "9: 100.0000000000%\n"
          ]
        }
      ]
    },
    {
      "cell_type": "code",
      "source": [
        "import numpy as np\n",
        "images = X_test.reshape((10000, 28, 28))\n",
        "incorrect_predictions = []\n",
        "\n",
        "for i, (p, e) in enumerate(zip(predictions, y_test)):\n",
        "    predicted, expected = np.argmax(p), np.argmax(e)\n",
        "\n",
        "    if predicted != expected:\n",
        "        incorrect_predictions.append(\n",
        "            (i, images[i], predicted, expected))"
      ],
      "metadata": {
        "id": "g1UCXyE2ySG1"
      },
      "execution_count": 42,
      "outputs": []
    },
    {
      "cell_type": "code",
      "source": [
        "len(incorrect_predictions)"
      ],
      "metadata": {
        "colab": {
          "base_uri": "https://localhost:8080/",
          "height": 0
        },
        "id": "A4oNM3ODyguT",
        "outputId": "e640d826-0457-4cf5-a37e-713454ade17f"
      },
      "execution_count": 43,
      "outputs": [
        {
          "output_type": "execute_result",
          "data": {
            "text/plain": [
              "1692"
            ]
          },
          "metadata": {},
          "execution_count": 43
        }
      ]
    },
    {
      "cell_type": "code",
      "source": [
        "#16.4\n",
        "#This model is to see what happens when you remove the first dense layer\n",
        "cnn2 = Sequential()\n",
        "cnn2.add(Conv2D(filters=64, kernel_size=(3, 3), activation='relu', input_shape=(28, 28, 1)))\n",
        "cnn2.add(MaxPooling2D(pool_size=(2, 2)))\n",
        "cnn2.add(Conv2D(filters=128, kernel_size=(3, 3), activation='relu'))\n",
        "cnn2.add(MaxPooling2D(pool_size=(2, 2)))\n",
        "cnn2.add(Flatten())\n",
        "cnn2.add(Dense(units=10, activation='softmax'))\n",
        "cnn2.summary()"
      ],
      "metadata": {
        "colab": {
          "base_uri": "https://localhost:8080/",
          "height": 0
        },
        "id": "Qz-lxPciynHC",
        "outputId": "6bcc5969-bafa-47c9-cc4d-a9ec645a768c"
      },
      "execution_count": 47,
      "outputs": [
        {
          "output_type": "stream",
          "name": "stdout",
          "text": [
            "Model: \"sequential_1\"\n",
            "_________________________________________________________________\n",
            " Layer (type)                Output Shape              Param #   \n",
            "=================================================================\n",
            " conv2d_2 (Conv2D)           (None, 26, 26, 64)        640       \n",
            "                                                                 \n",
            " max_pooling2d_2 (MaxPooling  (None, 13, 13, 64)       0         \n",
            " 2D)                                                             \n",
            "                                                                 \n",
            " conv2d_3 (Conv2D)           (None, 11, 11, 128)       73856     \n",
            "                                                                 \n",
            " max_pooling2d_3 (MaxPooling  (None, 5, 5, 128)        0         \n",
            " 2D)                                                             \n",
            "                                                                 \n",
            " flatten_1 (Flatten)         (None, 3200)              0         \n",
            "                                                                 \n",
            " dense_2 (Dense)             (None, 10)                32010     \n",
            "                                                                 \n",
            "=================================================================\n",
            "Total params: 106,506\n",
            "Trainable params: 106,506\n",
            "Non-trainable params: 0\n",
            "_________________________________________________________________\n"
          ]
        }
      ]
    },
    {
      "cell_type": "code",
      "source": [
        "cnn2.compile(optimizer='adam', loss='categorical_crossentropy', metrics=['accuracy'])"
      ],
      "metadata": {
        "id": "nx9_Kf0n1USx"
      },
      "execution_count": 49,
      "outputs": []
    },
    {
      "cell_type": "code",
      "source": [
        "cnn2.fit(X_train, y_train, epochs=5, batch_size=64, validation_split=0.1)"
      ],
      "metadata": {
        "colab": {
          "base_uri": "https://localhost:8080/",
          "height": 0
        },
        "id": "XCcou5ub1bVV",
        "outputId": "84d88068-3519-43f9-a9a1-07dd88c8675f"
      },
      "execution_count": 50,
      "outputs": [
        {
          "output_type": "stream",
          "name": "stdout",
          "text": [
            "Epoch 1/5\n",
            "844/844 [==============================] - 119s 141ms/step - loss: 0.4952 - accuracy: 0.8237 - val_loss: 0.3845 - val_accuracy: 0.8623\n",
            "Epoch 2/5\n",
            "844/844 [==============================] - 118s 140ms/step - loss: 0.3332 - accuracy: 0.8806 - val_loss: 0.3371 - val_accuracy: 0.8777\n",
            "Epoch 3/5\n",
            "844/844 [==============================] - 122s 145ms/step - loss: 0.2876 - accuracy: 0.8960 - val_loss: 0.2896 - val_accuracy: 0.8948\n",
            "Epoch 4/5\n",
            "844/844 [==============================] - 121s 144ms/step - loss: 0.2579 - accuracy: 0.9074 - val_loss: 0.2679 - val_accuracy: 0.9025\n",
            "Epoch 5/5\n",
            "844/844 [==============================] - 117s 138ms/step - loss: 0.2337 - accuracy: 0.9145 - val_loss: 0.2642 - val_accuracy: 0.9072\n"
          ]
        },
        {
          "output_type": "execute_result",
          "data": {
            "text/plain": [
              "<keras.callbacks.History at 0x7f15dddad0d0>"
            ]
          },
          "metadata": {},
          "execution_count": 50
        }
      ]
    },
    {
      "cell_type": "code",
      "source": [
        "loss2, accuracy2 = cnn2.evaluate(X_test, y_test)"
      ],
      "metadata": {
        "colab": {
          "base_uri": "https://localhost:8080/",
          "height": 0
        },
        "id": "s9Er_sbt2Q_j",
        "outputId": "8b48c51f-0829-4cb8-decf-885b25b37934"
      },
      "execution_count": 52,
      "outputs": [
        {
          "output_type": "stream",
          "name": "stdout",
          "text": [
            "313/313 [==============================] - 6s 20ms/step - loss: 1.9805 - accuracy: 0.8549\n"
          ]
        }
      ]
    },
    {
      "cell_type": "markdown",
      "source": [
        "Here, the training time for this model was nearly the same speed at about 20ms/step when compared to the original model at 19ms/step"
      ],
      "metadata": {
        "id": "ioU8xnKI4B7E"
      }
    },
    {
      "cell_type": "code",
      "source": [
        "loss2"
      ],
      "metadata": {
        "colab": {
          "base_uri": "https://localhost:8080/",
          "height": 0
        },
        "id": "OsMgzYQk2dQw",
        "outputId": "4a8fe01b-6b61-44d9-a419-7162977a9bbb"
      },
      "execution_count": 53,
      "outputs": [
        {
          "output_type": "execute_result",
          "data": {
            "text/plain": [
              "1.980485200881958"
            ]
          },
          "metadata": {},
          "execution_count": 53
        }
      ]
    },
    {
      "cell_type": "code",
      "source": [
        "accuracy2"
      ],
      "metadata": {
        "colab": {
          "base_uri": "https://localhost:8080/",
          "height": 0
        },
        "id": "qnpuRnjW2dYX",
        "outputId": "f0bfa82d-7f90-4915-908a-43a20d277594"
      },
      "execution_count": 54,
      "outputs": [
        {
          "output_type": "execute_result",
          "data": {
            "text/plain": [
              "0.8549000024795532"
            ]
          },
          "metadata": {},
          "execution_count": 54
        }
      ]
    },
    {
      "cell_type": "markdown",
      "source": [
        "Here the accuracy is 85.5% whereas there was an accuracy of 83% for the original model. Clearly, this model performed slightly better when compared to the original one."
      ],
      "metadata": {
        "id": "JGWlbX1i4WYe"
      }
    },
    {
      "cell_type": "code",
      "source": [
        "#This model is to see what happens when you add another dense layer with 4096 neurons\n",
        "cnn3 = Sequential()\n",
        "cnn3.add(Conv2D(filters=64, kernel_size=(3, 3), activation='relu', input_shape=(28, 28, 1)))\n",
        "cnn3.add(MaxPooling2D(pool_size=(2, 2)))\n",
        "cnn3.add(Conv2D(filters=128, kernel_size=(3, 3), activation='relu'))\n",
        "cnn3.add(MaxPooling2D(pool_size=(2, 2)))\n",
        "cnn3.add(Flatten())\n",
        "cnn3.add(Dense(units=4096, activation='relu'))\n",
        "cnn3.add(Dense(units=128, activation='relu'))\n",
        "cnn3.add(Dense(units=10, activation='softmax'))\n",
        "cnn3.summary()"
      ],
      "metadata": {
        "colab": {
          "base_uri": "https://localhost:8080/",
          "height": 0
        },
        "id": "_SvigCFw1ibR",
        "outputId": "35c512f7-6d81-4331-db2f-63b7a6ff3e6d"
      },
      "execution_count": 59,
      "outputs": [
        {
          "output_type": "stream",
          "name": "stdout",
          "text": [
            "Model: \"sequential_5\"\n",
            "_________________________________________________________________\n",
            " Layer (type)                Output Shape              Param #   \n",
            "=================================================================\n",
            " conv2d_6 (Conv2D)           (None, 26, 26, 64)        640       \n",
            "                                                                 \n",
            " max_pooling2d_6 (MaxPooling  (None, 13, 13, 64)       0         \n",
            " 2D)                                                             \n",
            "                                                                 \n",
            " conv2d_7 (Conv2D)           (None, 11, 11, 128)       73856     \n",
            "                                                                 \n",
            " max_pooling2d_7 (MaxPooling  (None, 5, 5, 128)        0         \n",
            " 2D)                                                             \n",
            "                                                                 \n",
            " flatten_3 (Flatten)         (None, 3200)              0         \n",
            "                                                                 \n",
            " dense_6 (Dense)             (None, 4096)              13111296  \n",
            "                                                                 \n",
            " dense_7 (Dense)             (None, 128)               524416    \n",
            "                                                                 \n",
            " dense_8 (Dense)             (None, 10)                1290      \n",
            "                                                                 \n",
            "=================================================================\n",
            "Total params: 13,711,498\n",
            "Trainable params: 13,711,498\n",
            "Non-trainable params: 0\n",
            "_________________________________________________________________\n"
          ]
        }
      ]
    },
    {
      "cell_type": "code",
      "source": [
        "cnn3.compile(optimizer='adam', loss='categorical_crossentropy', metrics=['accuracy'])"
      ],
      "metadata": {
        "id": "Vdf3TDZY5ITN"
      },
      "execution_count": 61,
      "outputs": []
    },
    {
      "cell_type": "code",
      "source": [
        "cnn3.fit(X_train, y_train, epochs=5, batch_size=64, validation_split=0.1)"
      ],
      "metadata": {
        "colab": {
          "base_uri": "https://localhost:8080/",
          "height": 0
        },
        "id": "NUdw5_uz5LRd",
        "outputId": "b4bf1008-86e0-4489-c882-a0186b381306"
      },
      "execution_count": 62,
      "outputs": [
        {
          "output_type": "stream",
          "name": "stdout",
          "text": [
            "Epoch 1/5\n",
            "844/844 [==============================] - 261s 308ms/step - loss: 0.4226 - accuracy: 0.8444 - val_loss: 0.3069 - val_accuracy: 0.8845\n",
            "Epoch 2/5\n",
            "844/844 [==============================] - 256s 304ms/step - loss: 0.2738 - accuracy: 0.8985 - val_loss: 0.3009 - val_accuracy: 0.8805\n",
            "Epoch 3/5\n",
            "844/844 [==============================] - 253s 300ms/step - loss: 0.2262 - accuracy: 0.9148 - val_loss: 0.2556 - val_accuracy: 0.9063\n",
            "Epoch 4/5\n",
            "844/844 [==============================] - 252s 299ms/step - loss: 0.1892 - accuracy: 0.9275 - val_loss: 0.2443 - val_accuracy: 0.9135\n",
            "Epoch 5/5\n",
            "844/844 [==============================] - 255s 302ms/step - loss: 0.1586 - accuracy: 0.9401 - val_loss: 0.2640 - val_accuracy: 0.9098\n"
          ]
        },
        {
          "output_type": "execute_result",
          "data": {
            "text/plain": [
              "<keras.callbacks.History at 0x7f15ddbef7d0>"
            ]
          },
          "metadata": {},
          "execution_count": 62
        }
      ]
    },
    {
      "cell_type": "code",
      "source": [
        "loss3, accuracy3 = cnn3.evaluate(X_test, y_test)"
      ],
      "metadata": {
        "colab": {
          "base_uri": "https://localhost:8080/",
          "height": 0
        },
        "id": "vwzwBcHF28Jo",
        "outputId": "6fc4a46e-0843-4de4-9495-a1fb1a03b3bd"
      },
      "execution_count": 63,
      "outputs": [
        {
          "output_type": "stream",
          "name": "stdout",
          "text": [
            "313/313 [==============================] - 13s 43ms/step - loss: 2.3544 - accuracy: 0.8416\n"
          ]
        }
      ]
    },
    {
      "cell_type": "markdown",
      "source": [
        "Here, the training time for this model was slower at about 43ms/step when compared to the original model at 19ms/step"
      ],
      "metadata": {
        "id": "gu7s6Q8o5A45"
      }
    },
    {
      "cell_type": "code",
      "source": [
        "loss3"
      ],
      "metadata": {
        "colab": {
          "base_uri": "https://localhost:8080/",
          "height": 0
        },
        "id": "wewH5-W_2-ML",
        "outputId": "7ff4ea03-7ff0-4119-b618-96095e37c6a5"
      },
      "execution_count": 64,
      "outputs": [
        {
          "output_type": "execute_result",
          "data": {
            "text/plain": [
              "2.3544256687164307"
            ]
          },
          "metadata": {},
          "execution_count": 64
        }
      ]
    },
    {
      "cell_type": "code",
      "source": [
        "accuracy3"
      ],
      "metadata": {
        "colab": {
          "base_uri": "https://localhost:8080/",
          "height": 0
        },
        "id": "6ok9aLn22-VU",
        "outputId": "ae13f5cc-03d5-4db2-caac-e917c39c2b19"
      },
      "execution_count": 65,
      "outputs": [
        {
          "output_type": "execute_result",
          "data": {
            "text/plain": [
              "0.8416000008583069"
            ]
          },
          "metadata": {},
          "execution_count": 65
        }
      ]
    },
    {
      "cell_type": "markdown",
      "source": [
        "Here the accuracy is 84% whereas there was an accuracy of 83% for the original model. Clearly, this model performed slightly better when compared to the original one."
      ],
      "metadata": {
        "id": "EhCnW9a_5RyK"
      }
    },
    {
      "cell_type": "code",
      "source": [],
      "metadata": {
        "id": "A-mI2pvw4v3H"
      },
      "execution_count": null,
      "outputs": []
    }
  ]
}