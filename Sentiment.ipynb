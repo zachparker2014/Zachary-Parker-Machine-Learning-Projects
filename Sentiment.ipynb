{
  "nbformat": 4,
  "nbformat_minor": 0,
  "metadata": {
    "colab": {
      "provenance": [],
      "authorship_tag": "ABX9TyPQSelnAMa0RNEjxCvcVNpe",
      "include_colab_link": true
    },
    "kernelspec": {
      "name": "python3",
      "display_name": "Python 3"
    },
    "language_info": {
      "name": "python"
    }
  },
  "cells": [
    {
      "cell_type": "markdown",
      "metadata": {
        "id": "view-in-github",
        "colab_type": "text"
      },
      "source": [
        "<a href=\"https://colab.research.google.com/github/zachparker2014/Zachary-Parker-IntrotoMachineLearning/blob/main/ParkerWeek7Disc.ipynb\" target=\"_parent\"><img src=\"https://colab.research.google.com/assets/colab-badge.svg\" alt=\"Open In Colab\"/></a>"
      ]
    },
    {
      "cell_type": "code",
      "source": [
        "from textblob import TextBlob\n",
        "from textblob.sentiments import NaiveBayesAnalyzer\n",
        "import nltk\n",
        "nltk.download('stopwords')\n",
        "nltk.download('wordnet')\n",
        "nltk.download('punkt')\n",
        "nltk.download('movie_reviews')"
      ],
      "metadata": {
        "colab": {
          "base_uri": "https://localhost:8080/"
        },
        "id": "VLfC9c2WnXRX",
        "outputId": "0df25c6c-dc92-43c6-9332-e2425a033c9b"
      },
      "execution_count": 64,
      "outputs": [
        {
          "output_type": "stream",
          "name": "stderr",
          "text": [
            "[nltk_data] Downloading package stopwords to /root/nltk_data...\n",
            "[nltk_data]   Package stopwords is already up-to-date!\n",
            "[nltk_data] Downloading package wordnet to /root/nltk_data...\n",
            "[nltk_data]   Package wordnet is already up-to-date!\n",
            "[nltk_data] Downloading package punkt to /root/nltk_data...\n",
            "[nltk_data]   Package punkt is already up-to-date!\n",
            "[nltk_data] Downloading package movie_reviews to /root/nltk_data...\n",
            "[nltk_data]   Package movie_reviews is already up-to-date!\n"
          ]
        },
        {
          "output_type": "execute_result",
          "data": {
            "text/plain": [
              "True"
            ]
          },
          "metadata": {},
          "execution_count": 64
        }
      ]
    },
    {
      "cell_type": "code",
      "source": [
        "#Article on Hurricanes\n",
        "text = \"Many beach cottages that lined the shores of Sanibel Island were wiped away by Hurricane Ian's storm surge, new aerial imagery from NOAA shows. Most homes on Sanibel and Captiva islands are still standing, but appear to have sustained some form of roof damage, in addition to certain storm surge and flooding damage.Near the Casa Ybel Beach Resort, large scars in the sands are seen -- the surge eroded much of the beach and dunes. Only one building remains of the Waterside Inn on the Beach. The only thing remaining of the eight buildings on the property, which encircle the swimming pool, is debris.The roofs of the four buildings that comprise Ocean's Reach have sustained significant damage. It's unclear how things fared inside the buildings, but a significant debris field is seen behind the buildings. The covered parking structure behind the buildings has been destroyed as well.\""
      ],
      "metadata": {
        "id": "p13s5ZMJojFi"
      },
      "execution_count": 65,
      "outputs": []
    },
    {
      "cell_type": "code",
      "source": [
        "blob = TextBlob(text)"
      ],
      "metadata": {
        "id": "qCevt7Cvp3f3"
      },
      "execution_count": 66,
      "outputs": []
    },
    {
      "cell_type": "code",
      "source": [
        "print(blob.sentiment)"
      ],
      "metadata": {
        "colab": {
          "base_uri": "https://localhost:8080/"
        },
        "id": "5mkyI6zYp6Lz",
        "outputId": "7ee888ae-8d24-4734-8f2a-dc1e6cf8821f"
      },
      "execution_count": 67,
      "outputs": [
        {
          "output_type": "stream",
          "name": "stdout",
          "text": [
            "Sentiment(polarity=0.1429112554112554, subjectivity=0.6503787878787879)\n"
          ]
        }
      ]
    },
    {
      "cell_type": "code",
      "source": [
        "for sentence in blob.sentences:\n",
        "     print(sentence)\n",
        "     print(sentence.sentiment)"
      ],
      "metadata": {
        "colab": {
          "base_uri": "https://localhost:8080/"
        },
        "id": "A3JES2rNqNgq",
        "outputId": "dcf39aeb-5c41-4f9d-c118-168436f7ad3a"
      },
      "execution_count": 69,
      "outputs": [
        {
          "output_type": "stream",
          "name": "stdout",
          "text": [
            "Many beach cottages that lined the shores of Sanibel Island were wiped away by Hurricane Ian's storm surge, new aerial imagery from NOAA shows.\n",
            "Sentiment(polarity=0.3181818181818182, subjectivity=0.4772727272727273)\n",
            "Most homes on Sanibel and Captiva islands are still standing, but appear to have sustained some form of roof damage, in addition to certain storm surge and flooding damage.Near the Casa Ybel Beach Resort, large scars in the sands are seen -- the surge eroded much of the beach and dunes.\n",
            "Sentiment(polarity=0.28214285714285714, subjectivity=0.425)\n",
            "Only one building remains of the Waterside Inn on the Beach.\n",
            "Sentiment(polarity=0.0, subjectivity=1.0)\n",
            "The only thing remaining of the eight buildings on the property, which encircle the swimming pool, is debris.The roofs of the four buildings that comprise Ocean's Reach have sustained significant damage.\n",
            "Sentiment(polarity=0.1875, subjectivity=0.9375)\n",
            "It's unclear how things fared inside the buildings, but a significant debris field is seen behind the buildings.\n",
            "Sentiment(polarity=-0.012500000000000011, subjectivity=0.7875)\n",
            "The covered parking structure behind the buildings has been destroyed as well.\n",
            "Sentiment(polarity=-0.4, subjectivity=0.7)\n"
          ]
        }
      ]
    },
    {
      "cell_type": "code",
      "source": [],
      "metadata": {
        "id": "6itMPlBVsCx7"
      },
      "execution_count": 68,
      "outputs": []
    }
  ]
}